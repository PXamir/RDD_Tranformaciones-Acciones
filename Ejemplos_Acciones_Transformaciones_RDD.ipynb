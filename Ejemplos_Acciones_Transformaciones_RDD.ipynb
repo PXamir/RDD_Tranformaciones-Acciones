{
  "nbformat": 4,
  "nbformat_minor": 0,
  "metadata": {
    "colab": {
      "provenance": [],
      "include_colab_link": true
    },
    "kernelspec": {
      "name": "python3",
      "display_name": "Python 3"
    },
    "language_info": {
      "name": "python"
    }
  },
  "cells": [
    {
      "cell_type": "markdown",
      "metadata": {
        "id": "view-in-github",
        "colab_type": "text"
      },
      "source": [
        "<a href=\"https://colab.research.google.com/github/PXamir/RDD_Tranformaciones-Acciones/blob/main/Ejemplos_Acciones_Transformaciones_RDD.ipynb\" target=\"_parent\"><img src=\"https://colab.research.google.com/assets/colab-badge.svg\" alt=\"Open In Colab\"/></a>"
      ]
    },
    {
      "cell_type": "code",
      "execution_count": 4,
      "metadata": {
        "colab": {
          "base_uri": "https://localhost:8080/"
        },
        "collapsed": true,
        "id": "1t6G2iGqI5DD",
        "outputId": "cb36b2c2-8536-4c45-d2ee-dff74e97d168"
      },
      "outputs": [
        {
          "output_type": "stream",
          "name": "stdout",
          "text": [
            "Requirement already satisfied: pyspark in /usr/local/lib/python3.10/dist-packages (3.5.3)\n",
            "Requirement already satisfied: py4j==0.10.9.7 in /usr/local/lib/python3.10/dist-packages (from pyspark) (0.10.9.7)\n"
          ]
        }
      ],
      "source": [
        "# Instala PySpark si no lo tienes ya instalado\n",
        "!pip install pyspark\n",
        "\n",
        "from pyspark.sql import SparkSession\n",
        "\n",
        "# Crear una sesión de Spark\n",
        "spark = SparkSession.builder.appName(\"Tranformacion/Accion\").getOrCreate()\n",
        "\n",
        "# Obtener el SparkContext desde SparkSession\n",
        "sc = spark.sparkContext"
      ]
    },
    {
      "cell_type": "code",
      "source": [
        "######     MAP     ######\n",
        "\n",
        "# Crear datos\n",
        "datos_ventas = [\n",
        "#   (  producto,  cantidad, precio_por_unidad)\n",
        "    (\"Producto A\",   3,          10.0),\n",
        "    (\"Producto B\",   2,          15.5),\n",
        "    (\"Producto C\",   5,          7.2)\n",
        "]\n",
        "\n",
        "# Crear el RDD a partir de la lista\n",
        "rdd_ventas = sc.parallelize(datos_ventas)\n",
        "\n",
        "# Usar map para calcular el precio total y agregarlo a cada tupla\n",
        "rdd_ventas_totales = rdd_ventas.map(lambda x: (x[0], x[1], x[2], x[1] * x[2]))\n",
        "\n",
        "# Mostrar los resultados\n",
        "print(rdd_ventas_totales.collect())"
      ],
      "metadata": {
        "colab": {
          "base_uri": "https://localhost:8080/"
        },
        "id": "pUEF5zzPksph",
        "outputId": "e3228a7f-6de1-4935-ee45-f3240a471b33"
      },
      "execution_count": null,
      "outputs": [
        {
          "output_type": "stream",
          "name": "stdout",
          "text": [
            "[('Producto A', 3, 10.0, 30.0), ('Producto B', 2, 15.5, 31.0), ('Producto C', 5, 7.2, 36.0)]\n"
          ]
        }
      ]
    },
    {
      "cell_type": "code",
      "source": [
        "######     FILTER     ######\n",
        "\n",
        "# Crear datos\n",
        "datos_empleados = [\n",
        "#   (nombre,   edad)\n",
        "    (\"Ana\",     25),\n",
        "    (\"José\",    32),\n",
        "    (\"Carlos\",  28),\n",
        "    (\"Daniela\", 35),\n",
        "    (\"Elisa\",   30)\n",
        "]\n",
        "\n",
        "# Crear el RDD a partir de la lista\n",
        "rdd_empleados = sc.parallelize(datos_empleados)\n",
        "\n",
        "# Usar filter para seleccionar empleados mayores de 30 años\n",
        "rdd_empleados_mayores_30 = rdd_empleados.filter(lambda x: x[1] > 30)\n",
        "\n",
        "# Contar empleados mayores de 30 años\n",
        "num_empleados_mayores_30 = rdd_empleados_mayores_30.count()\n",
        "print(\"Número de empleados mayores de 30 años:\", num_empleados_mayores_30)\n",
        "\n",
        "# Mostrar los resultados\n",
        "print(rdd_empleados_mayores_30.collect())"
      ],
      "metadata": {
        "colab": {
          "base_uri": "https://localhost:8080/"
        },
        "id": "Eb3zgv7bnwgv",
        "outputId": "5bd183c6-ced6-4a87-e734-fda8acd45697"
      },
      "execution_count": null,
      "outputs": [
        {
          "output_type": "stream",
          "name": "stdout",
          "text": [
            "Número de empleados mayores de 30 años: 2\n",
            "[('José', 32), ('Daniela', 35)]\n"
          ]
        }
      ]
    },
    {
      "cell_type": "code",
      "source": [
        "#Ejemplo con map, reduceByKey, sortBy y first\n",
        "# Datos de uso de gimnasio: (tipo_membresia, cantidad_usos)\n",
        "gimnasio_data = [\n",
        "    (\"premium\", 15), (\"básico\", 7), (\"premium\", 10),\n",
        "    (\"vip\", 5), (\"básico\", 9), (\"vip\", 8), (\"vip\", 1),\n",
        "]\n",
        "\n",
        "# Crear RDD de gimnasio\n",
        "gimnasio_rdd = sc.parallelize(gimnasio_data)\n",
        "\n",
        "# Transformar a (tipo_membresia, cantidad_usos)\n",
        "usos_map = gimnasio_rdd.map(lambda x: (x[0], x[1]))\n",
        "\n",
        "# Sumar los usos por cada tipo de membresía\n",
        "usos_totales = usos_map.reduceByKey(lambda x, y: x + y)\n",
        "\n",
        "# Ordenar por cantidad de usos de mayor a menor\n",
        "usos_ordenados = usos_totales.sortBy(lambda x: x[1], ascending=False)\n",
        "\n",
        "# Obtener la primera membresía en la lista ordenada por cantidad de usos\n",
        "membresia_primera = usos_ordenados.first()\n",
        "\n",
        "print(\"Membresía con mayor cantidad de usos:\", membresia_primera)"
      ],
      "metadata": {
        "colab": {
          "base_uri": "https://localhost:8080/"
        },
        "id": "qTs9KTo9hCSA",
        "outputId": "3c239295-5f04-43a2-c846-bdf33527f77e"
      },
      "execution_count": 5,
      "outputs": [
        {
          "output_type": "stream",
          "name": "stdout",
          "text": [
            "Membresía con mayor cantidad de usos: ('premium', 25)\n"
          ]
        }
      ]
    },
    {
      "cell_type": "code",
      "source": [
        "#Ejemplo con map, distinct, countByKey y reduce\n",
        "# Datos de préstamos en una biblioteca: (categoría, cantidad_préstamos)\n",
        "prestamos_data = [\n",
        "    (\"Novela\", 12), (\"Ciencia\", 5), (\"Tecnología\", 8),\n",
        "    (\"Novela\", 3), (\"Historia\", 7), (\"Ciencia\", 4),\n",
        "]\n",
        "\n",
        "# Crear RDD de préstamos\n",
        "prestamos_rdd = sc.parallelize(prestamos_data)\n",
        "\n",
        "# 1. `distinct`: Obtener categorías únicas de libros\n",
        "categorias_unicas = prestamos_rdd.map(lambda x: x[0]).distinct()\n",
        "\n",
        "# 2. `countByKey`: Contar los préstamos por cada categoría\n",
        "conteo_por_categoria = prestamos_rdd.countByKey()\n",
        "\n",
        "# 3. `reduce`: Calcular el total de préstamos\n",
        "total_prestamos = prestamos_rdd.map(lambda x: x[1]).reduce(lambda x, y: x + y)\n",
        "\n",
        "print(\"Categorías únicas:\", categorias_unicas.collect())\n",
        "print(\"Conteo por categoría:\", dict(conteo_por_categoria))\n",
        "print(\"Total de préstamos:\", total_prestamos)"
      ],
      "metadata": {
        "colab": {
          "base_uri": "https://localhost:8080/"
        },
        "id": "g7uC_PIfhX68",
        "outputId": "ccb75f8a-585f-403a-bf65-f3383379648c"
      },
      "execution_count": 6,
      "outputs": [
        {
          "output_type": "stream",
          "name": "stdout",
          "text": [
            "Categorías únicas: ['Ciencia', 'Tecnología', 'Historia', 'Novela']\n",
            "Conteo por categoría: {'Novela': 2, 'Ciencia': 2, 'Tecnología': 1, 'Historia': 1}\n",
            "Total de préstamos: 39\n"
          ]
        }
      ]
    },
    {
      "cell_type": "code",
      "source": [
        "#Ejemplo con map, reduceByKey, filter y saveAsTextFile\n",
        "# Datos de viajes en un servicio de transporte: (destino, cantidad_viajes, tarifa)\n",
        "transporte_data = [\n",
        "    (\"Centro\", 10, 15), (\"Aeropuerto\", 5, 30), (\"Centro\", 3, 15),\n",
        "    (\"Estación\", 8, 10), (\"Aeropuerto\", 2, 30), (\"Estación\", 6, 10),\n",
        "]\n",
        "\n",
        "# Crear RDD de transporte\n",
        "transporte_rdd = sc.parallelize(transporte_data)\n",
        "\n",
        "# 1. `map`: Calcular el ingreso por cada viaje\n",
        "tarifas_totales = transporte_rdd.map(lambda x: (x[0], x[1] * x[2]))\n",
        "\n",
        "# 2. `reduceByKey`: Sumar las tarifas totales por destino\n",
        "ingresos_por_destino = tarifas_totales.reduceByKey(lambda x, y: x + y)\n",
        "\n",
        "# 3. `filter`: Filtrar destinos con ingresos mayores a 100\n",
        "destinos_con_altas_tarifas = ingresos_por_destino.filter(lambda x: x[1] > 100)\n",
        "\n",
        "# 4. `saveAsTextFile`: Guardar el resultado en un archivo\n",
        "destinos_con_altas_tarifas.saveAsTextFile(\"/content/altas_tarifas.txt\")\n",
        "\n",
        "print(\"Destinos con tarifas altas guardados en archivo.\")"
      ],
      "metadata": {
        "colab": {
          "base_uri": "https://localhost:8080/"
        },
        "id": "wt8hnN5lhcJ8",
        "outputId": "58852ae9-6988-47b9-8ac3-8f7b22211224"
      },
      "execution_count": 7,
      "outputs": [
        {
          "output_type": "stream",
          "name": "stdout",
          "text": [
            "Destinos con tarifas altas guardados en archivo.\n"
          ]
        }
      ]
    },
    {
      "cell_type": "code",
      "source": [
        "#Ejemplo con groupByKey, reduceByKey, sortByKey y collect\n",
        "# Datos de mascotas atendidas en una veterinaria: (tipo_mascota, cantidad_visitas)\n",
        "mascotas_data = [\n",
        "    (\"perro\", 5), (\"gato\", 3), (\"perro\", 2),\n",
        "    (\"conejo\", 1), (\"gato\", 4), (\"conejo\", 2),\n",
        "]\n",
        "\n",
        "# Crear RDD de mascotas\n",
        "mascotas_rdd = sc.parallelize(mascotas_data)\n",
        "\n",
        "# 1. `groupByKey`: Agrupar las visitas por tipo de mascota\n",
        "visitas_agrupadas = mascotas_rdd.groupByKey().mapValues(list)\n",
        "\n",
        "# 2. `reduceByKey`: Sumar las visitas totales por tipo de mascota\n",
        "visitas_totales = mascotas_rdd.reduceByKey(lambda x, y: x + y)\n",
        "\n",
        "# 3. `sortByKey`: Ordenar las visitas por tipo de mascota alfabéticamente\n",
        "visitas_ordenadas = visitas_totales.sortByKey()\n",
        "\n",
        "# 4. `collect`: Recoger los resultados ordenados\n",
        "resultado = visitas_ordenadas.collect()\n",
        "\n",
        "print(\"Visitas por tipo de mascota:\", resultado)"
      ],
      "metadata": {
        "colab": {
          "base_uri": "https://localhost:8080/"
        },
        "id": "QyU5_eEShfmN",
        "outputId": "9b61a7ad-dd7c-487c-9845-2fc65d9cda55"
      },
      "execution_count": 8,
      "outputs": [
        {
          "output_type": "stream",
          "name": "stdout",
          "text": [
            "Visitas por tipo de mascota: [('conejo', 3), ('gato', 7), ('perro', 7)]\n"
          ]
        }
      ]
    },
    {
      "cell_type": "code",
      "source": [
        "#Ejemplo con flatMap, count y take\n",
        "# Datos: (tipo de visitante, cantidad de visitas por grupo)\n",
        "visitantes_data = [\n",
        "    (\"adulto\", 3), (\"niño\", 1), (\"adulto\", 2),\n",
        "    (\"ancianos\", 1), (\"niño\", 6), (\"adulto\", 6), (\"ancianos\", 5)\n",
        "]\n",
        "visitantes_rdd = sc.parallelize(visitantes_data)\n",
        "\n",
        "# 1. `flatMap`: Duplicar cada visita individual en el registro (ej. \"adulto\" con 5 visitas se convierte en 5 entradas de \"adulto\")\n",
        "visitas_expandidas = visitantes_rdd.flatMap(lambda x: [x[0]] * x[1])\n",
        "\n",
        "# 2. `count`: Contar el total de entradas registradas\n",
        "total_visitas = visitas_expandidas.count()\n",
        "print(\"Total de visitas individuales:\", total_visitas)\n",
        "\n",
        "# 3. `take`: Ver las primeras 5 visitas para una inspección rápida\n",
        "primeras_visitas = visitas_expandidas.take(12)\n",
        "print(\"Primeras visitas:\", primeras_visitas)"
      ],
      "metadata": {
        "colab": {
          "base_uri": "https://localhost:8080/"
        },
        "id": "5lNluJI6hmmL",
        "outputId": "290c7bae-3839-488b-cc2c-88d485af2bcd"
      },
      "execution_count": 9,
      "outputs": [
        {
          "output_type": "stream",
          "name": "stdout",
          "text": [
            "Total de visitas individuales: 24\n",
            "Primeras visitas: ['adulto', 'adulto', 'adulto', 'niño', 'adulto', 'adulto', 'ancianos', 'niño', 'niño', 'niño', 'niño', 'niño']\n"
          ]
        }
      ]
    },
    {
      "cell_type": "code",
      "source": [
        "#Ejemplo con union, intersection y count\n",
        "# Datos: IDs de usuarios en dos servicios diferentes\n",
        "usuarios_streaming = sc.parallelize([201, 202, 203, 204, 205])\n",
        "usuarios_noticias = sc.parallelize([203, 204, 206, 207, 208])\n",
        "\n",
        "# 1. `union`: Unir ambos RDDs para obtener la lista de todos los usuarios de ambos servicios\n",
        "todos_usuarios = usuarios_streaming.union(usuarios_noticias)\n",
        "\n",
        "# 2. `intersection`: Encontrar usuarios que utilizan ambos servicios\n",
        "usuarios_ambos_servicios = usuarios_streaming.intersection(usuarios_noticias)\n",
        "\n",
        "# 3. `count`: Contar el total de usuarios que usan ambos servicios\n",
        "total_usuarios_comunes = usuarios_ambos_servicios.count()\n",
        "print(\"Total de usuarios en ambos servicios:\", total_usuarios_comunes)"
      ],
      "metadata": {
        "colab": {
          "base_uri": "https://localhost:8080/"
        },
        "id": "squGgaHYhyJC",
        "outputId": "eccf89bb-93c9-467c-d3eb-a03fc2b52e9c"
      },
      "execution_count": 10,
      "outputs": [
        {
          "output_type": "stream",
          "name": "stdout",
          "text": [
            "Total de usuarios en ambos servicios: 2\n"
          ]
        }
      ]
    },
    {
      "cell_type": "code",
      "source": [
        "#Ejemplo con join y foreach\n",
        "# Datos: información de estudiantes y sus notas\n",
        "estudiantes = sc.parallelize([\n",
        "    (\"1\", \"Ana García\"),\n",
        "    (\"2\", \"Carlos López\"),\n",
        "    (\"3\", \"María Rodríguez\"),\n",
        "    (\"4\", \"Juan Pérez\"),\n",
        "    (\"5\", \"Laura Martínez\")\n",
        "])\n",
        "\n",
        "notas = sc.parallelize([\n",
        "    (\"1\", (85, \"Matemáticas\")),\n",
        "    (\"2\", (92, \"Matemáticas\")),\n",
        "    (\"3\", (78, \"Matemáticas\")),\n",
        "    (\"4\", (95, \"Matemáticas\")),\n",
        "    (\"5\", (88, \"Matemáticas\"))\n",
        "])\n",
        "\n",
        "# 1. `join`: Combinar información de estudiantes con sus notas\n",
        "estudiantes_notas = estudiantes.join(notas)\n",
        "\n",
        "print(\"Lista de Estudiantes y Calificaciones:\")\n",
        "print(\"-\" * 50)\n",
        "\n",
        "# 2. `foreach`: Mostrar la información de cada estudiante con su nota\n",
        "resultados = estudiantes_notas.collect()\n",
        "for resultado in resultados:\n",
        "    id_estudiante = resultado[0]\n",
        "    nombre = resultado[1][0]\n",
        "    nota = resultado[1][1][0]\n",
        "    asignatura = resultado[1][1][1]\n",
        "    print(f\"ID: {id_estudiante}, Estudiante: {nombre}, Asignatura: {asignatura}, Nota: {nota}\")\n",
        "\n",
        "print(\"-\" * 50)"
      ],
      "metadata": {
        "colab": {
          "base_uri": "https://localhost:8080/"
        },
        "id": "DWwItaSKh3Xq",
        "outputId": "67f1bc3b-7947-495e-936e-4d9dc951dcb2"
      },
      "execution_count": 11,
      "outputs": [
        {
          "output_type": "stream",
          "name": "stdout",
          "text": [
            "Lista de Estudiantes y Calificaciones:\n",
            "--------------------------------------------------\n",
            "ID: 4, Estudiante: Juan Pérez, Asignatura: Matemáticas, Nota: 95\n",
            "ID: 3, Estudiante: María Rodríguez, Asignatura: Matemáticas, Nota: 78\n",
            "ID: 1, Estudiante: Ana García, Asignatura: Matemáticas, Nota: 85\n",
            "ID: 2, Estudiante: Carlos López, Asignatura: Matemáticas, Nota: 92\n",
            "ID: 5, Estudiante: Laura Martínez, Asignatura: Matemáticas, Nota: 88\n",
            "--------------------------------------------------\n"
          ]
        }
      ]
    },
    {
      "cell_type": "code",
      "source": [
        "#Ejemplo con cogroup, coalesce y max, min\n",
        "# Crear dos RDDs con datos de ventas por región\n",
        "ventas_enero = sc.parallelize([\n",
        "    (\"Norte\", 1500),\n",
        "    (\"Sur\", 2000),\n",
        "    (\"Este\", 1800),\n",
        "    (\"Oeste\", 1600)\n",
        "])\n",
        "\n",
        "ventas_febrero = sc.parallelize([\n",
        "    (\"Norte\", 1600),\n",
        "    (\"Sur\", 1900),\n",
        "    (\"Este\", 2100),\n",
        "    (\"Oeste\", 1700)\n",
        "])\n",
        "\n",
        "# 1. Transformación cogroup: Agrupar ventas por región\n",
        "ventas_agrupadas = ventas_enero.cogroup(ventas_febrero)\n",
        "\n",
        "# Mostrar resultado del cogroup\n",
        "print(\"Resultado del cogroup:\")\n",
        "for region in ventas_agrupadas.collect():\n",
        "    print(f\"Región: {region[0]}\")\n",
        "    print(f\"Ventas Enero: {list(region[1][0])}\")\n",
        "    print(f\"Ventas Febrero: {list(region[1][1])}\\n\")\n",
        "\n",
        "# 2. Transformación coalesce: Reducir el número de particiones a 2\n",
        "ventas_reducidas = ventas_agrupadas.coalesce(2)\n",
        "print(f\"Número de particiones después de coalesce: {ventas_reducidas.getNumPartitions()}\")\n",
        "\n",
        "# 3. Acciones max y min\n",
        "# Primero convertimos los datos a un formato más manejable\n",
        "ventas_totales_enero = ventas_enero.map(lambda x: x[1])\n",
        "ventas_totales_febrero = ventas_febrero.map(lambda x: x[1])\n",
        "\n",
        "# Encontrar máximo y mínimo de ventas por mes\n",
        "max_enero = ventas_totales_enero.max()\n",
        "min_enero = ventas_totales_enero.min()\n",
        "max_febrero = ventas_totales_febrero.max()\n",
        "min_febrero = ventas_totales_febrero.min()\n",
        "\n",
        "print(\"\\nEstadísticas de ventas:\")\n",
        "print(f\"Enero - Venta máxima: {max_enero}, Venta mínima: {min_enero}\")\n",
        "print(f\"Febrero - Venta máxima: {max_febrero}, Venta mínima: {min_febrero}\")"
      ],
      "metadata": {
        "colab": {
          "base_uri": "https://localhost:8080/"
        },
        "id": "-i6o-txzh6Ab",
        "outputId": "37d7e2be-b872-4805-8fcd-9e51251632c4"
      },
      "execution_count": 12,
      "outputs": [
        {
          "output_type": "stream",
          "name": "stdout",
          "text": [
            "Resultado del cogroup:\n",
            "Región: Norte\n",
            "Ventas Enero: [1500]\n",
            "Ventas Febrero: [1600]\n",
            "\n",
            "Región: Sur\n",
            "Ventas Enero: [2000]\n",
            "Ventas Febrero: [1900]\n",
            "\n",
            "Región: Oeste\n",
            "Ventas Enero: [1600]\n",
            "Ventas Febrero: [1700]\n",
            "\n",
            "Región: Este\n",
            "Ventas Enero: [1800]\n",
            "Ventas Febrero: [2100]\n",
            "\n",
            "Número de particiones después de coalesce: 2\n",
            "\n",
            "Estadísticas de ventas:\n",
            "Enero - Venta máxima: 2000, Venta mínima: 1500\n",
            "Febrero - Venta máxima: 2100, Venta mínima: 1600\n"
          ]
        }
      ]
    }
  ]
}