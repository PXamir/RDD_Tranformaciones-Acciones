{
  "nbformat": 4,
  "nbformat_minor": 0,
  "metadata": {
    "colab": {
      "provenance": [],
      "authorship_tag": "ABX9TyNVmluvCySFlifUKgNFJ25O",
      "include_colab_link": true
    },
    "kernelspec": {
      "name": "python3",
      "display_name": "Python 3"
    },
    "language_info": {
      "name": "python"
    }
  },
  "cells": [
    {
      "cell_type": "markdown",
      "metadata": {
        "id": "view-in-github",
        "colab_type": "text"
      },
      "source": [
        "<a href=\"https://colab.research.google.com/github/PXamir/RDD_Tranformaciones-Acciones/blob/main/Ejemplos_Acciones_Transformaciones_RDD.ipynb\" target=\"_parent\"><img src=\"https://colab.research.google.com/assets/colab-badge.svg\" alt=\"Open In Colab\"/></a>"
      ]
    },
    {
      "cell_type": "code",
      "execution_count": 1,
      "metadata": {
        "colab": {
          "base_uri": "https://localhost:8080/"
        },
        "collapsed": true,
        "id": "1t6G2iGqI5DD",
        "outputId": "992518ba-2654-4df3-b00f-45f1f14f0fc1"
      },
      "outputs": [
        {
          "output_type": "stream",
          "name": "stdout",
          "text": [
            "Requirement already satisfied: pyspark in /usr/local/lib/python3.10/dist-packages (3.5.3)\n",
            "Requirement already satisfied: py4j==0.10.9.7 in /usr/local/lib/python3.10/dist-packages (from pyspark) (0.10.9.7)\n"
          ]
        }
      ],
      "source": [
        "# Instala PySpark si no lo tienes ya instalado\n",
        "!pip install pyspark\n",
        "\n",
        "from pyspark.sql import SparkSession\n",
        "\n",
        "# Crear una sesión de Spark\n",
        "spark = SparkSession.builder.appName(\"Tranformacion/Accion\").getOrCreate()\n",
        "\n",
        "# Obtener el SparkContext desde SparkSession\n",
        "sc = spark.sparkContext\n"
      ]
    },
    {
      "cell_type": "code",
      "source": [
        "######     MAP     ######\n",
        "\n",
        "# Crear datos\n",
        "datos_ventas = [\n",
        "#   (  producto,  cantidad, precio_por_unidad)\n",
        "    (\"Producto A\",   3,          10.0),\n",
        "    (\"Producto B\",   2,          15.5),\n",
        "    (\"Producto C\",   5,          7.2)\n",
        "]\n",
        "\n",
        "# Crear el RDD a partir de la lista\n",
        "rdd_ventas = sc.parallelize(datos_ventas)\n",
        "\n",
        "# Usar map para calcular el precio total y agregarlo a cada tupla\n",
        "rdd_ventas_totales = rdd_ventas.map(lambda x: (x[0], x[1], x[2], x[1] * x[2]))\n",
        "\n",
        "# Mostrar los resultados\n",
        "print(rdd_ventas_totales.collect())\n",
        "\n"
      ],
      "metadata": {
        "colab": {
          "base_uri": "https://localhost:8080/"
        },
        "id": "pUEF5zzPksph",
        "outputId": "fdc2af35-d852-4fd8-924f-91d076f40d6f"
      },
      "execution_count": 4,
      "outputs": [
        {
          "output_type": "stream",
          "name": "stdout",
          "text": [
            "[('Producto A', 3, 10.0, 30.0), ('Producto B', 2, 15.5, 31.0), ('Producto C', 5, 7.2, 36.0)]\n"
          ]
        }
      ]
    },
    {
      "cell_type": "code",
      "source": [],
      "metadata": {
        "id": "Eb3zgv7bnwgv"
      },
      "execution_count": null,
      "outputs": []
    }
  ]
}